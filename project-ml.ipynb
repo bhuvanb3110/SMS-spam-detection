{
 "cells": [
  {
   "cell_type": "code",
   "execution_count": 2,
   "id": "05b35f87-eeb3-422a-9e69-05439e575bc6",
   "metadata": {},
   "outputs": [],
   "source": [
    "import numpy as np\n",
    "import pandas as pd\n",
    "import matplotlib\n",
    "import matplotlib.pyplot as plt"
   ]
  },
  {
   "cell_type": "code",
   "execution_count": 4,
   "id": "67cb30bf-6a47-44da-8feb-8f5458f019a7",
   "metadata": {},
   "outputs": [],
   "source": [
    "df = pd.read_csv(\"spam.csv\", encoding = 'latin-1')\n",
    "df.dropna(how=\"any\", inplace=True, axis=1)\n",
    "df.columns = ['label', 'sms']"
   ]
  },
  {
   "cell_type": "code",
   "execution_count": 6,
   "id": "f7125ffd-ee6f-4ba4-81cc-13c15fcce66c",
   "metadata": {},
   "outputs": [
    {
     "data": {
      "text/html": [
       "<div>\n",
       "<style scoped>\n",
       "    .dataframe tbody tr th:only-of-type {\n",
       "        vertical-align: middle;\n",
       "    }\n",
       "\n",
       "    .dataframe tbody tr th {\n",
       "        vertical-align: top;\n",
       "    }\n",
       "\n",
       "    .dataframe thead th {\n",
       "        text-align: right;\n",
       "    }\n",
       "</style>\n",
       "<table border=\"1\" class=\"dataframe\">\n",
       "  <thead>\n",
       "    <tr style=\"text-align: right;\">\n",
       "      <th></th>\n",
       "      <th>label</th>\n",
       "      <th>sms</th>\n",
       "    </tr>\n",
       "  </thead>\n",
       "  <tbody>\n",
       "    <tr>\n",
       "      <th>0</th>\n",
       "      <td>ham</td>\n",
       "      <td>Go until jurong point, crazy.. Available only ...</td>\n",
       "    </tr>\n",
       "    <tr>\n",
       "      <th>1</th>\n",
       "      <td>ham</td>\n",
       "      <td>Ok lar... Joking wif u oni...</td>\n",
       "    </tr>\n",
       "    <tr>\n",
       "      <th>2</th>\n",
       "      <td>spam</td>\n",
       "      <td>Free entry in 2 a wkly comp to win FA Cup fina...</td>\n",
       "    </tr>\n",
       "    <tr>\n",
       "      <th>3</th>\n",
       "      <td>ham</td>\n",
       "      <td>U dun say so early hor... U c already then say...</td>\n",
       "    </tr>\n",
       "    <tr>\n",
       "      <th>4</th>\n",
       "      <td>ham</td>\n",
       "      <td>Nah I don't think he goes to usf, he lives aro...</td>\n",
       "    </tr>\n",
       "  </tbody>\n",
       "</table>\n",
       "</div>"
      ],
      "text/plain": [
       "  label                                                sms\n",
       "0   ham  Go until jurong point, crazy.. Available only ...\n",
       "1   ham                      Ok lar... Joking wif u oni...\n",
       "2  spam  Free entry in 2 a wkly comp to win FA Cup fina...\n",
       "3   ham  U dun say so early hor... U c already then say...\n",
       "4   ham  Nah I don't think he goes to usf, he lives aro..."
      ]
     },
     "execution_count": 6,
     "metadata": {},
     "output_type": "execute_result"
    }
   ],
   "source": [
    "df.head()"
   ]
  },
  {
   "cell_type": "code",
   "execution_count": 8,
   "id": "af19f27e-e79f-4b97-a59d-ff9fd6bead58",
   "metadata": {},
   "outputs": [
    {
     "data": {
      "text/html": [
       "<div>\n",
       "<style scoped>\n",
       "    .dataframe tbody tr th:only-of-type {\n",
       "        vertical-align: middle;\n",
       "    }\n",
       "\n",
       "    .dataframe tbody tr th {\n",
       "        vertical-align: top;\n",
       "    }\n",
       "\n",
       "    .dataframe thead th {\n",
       "        text-align: right;\n",
       "    }\n",
       "</style>\n",
       "<table border=\"1\" class=\"dataframe\">\n",
       "  <thead>\n",
       "    <tr style=\"text-align: right;\">\n",
       "      <th></th>\n",
       "      <th>label</th>\n",
       "      <th>sms</th>\n",
       "    </tr>\n",
       "  </thead>\n",
       "  <tbody>\n",
       "    <tr>\n",
       "      <th>5567</th>\n",
       "      <td>spam</td>\n",
       "      <td>This is the 2nd time we have tried 2 contact u...</td>\n",
       "    </tr>\n",
       "    <tr>\n",
       "      <th>5568</th>\n",
       "      <td>ham</td>\n",
       "      <td>Will Ì_ b going to esplanade fr home?</td>\n",
       "    </tr>\n",
       "    <tr>\n",
       "      <th>5569</th>\n",
       "      <td>ham</td>\n",
       "      <td>Pity, * was in mood for that. So...any other s...</td>\n",
       "    </tr>\n",
       "    <tr>\n",
       "      <th>5570</th>\n",
       "      <td>ham</td>\n",
       "      <td>The guy did some bitching but I acted like i'd...</td>\n",
       "    </tr>\n",
       "    <tr>\n",
       "      <th>5571</th>\n",
       "      <td>ham</td>\n",
       "      <td>Rofl. Its true to its name</td>\n",
       "    </tr>\n",
       "  </tbody>\n",
       "</table>\n",
       "</div>"
      ],
      "text/plain": [
       "     label                                                sms\n",
       "5567  spam  This is the 2nd time we have tried 2 contact u...\n",
       "5568   ham              Will Ì_ b going to esplanade fr home?\n",
       "5569   ham  Pity, * was in mood for that. So...any other s...\n",
       "5570   ham  The guy did some bitching but I acted like i'd...\n",
       "5571   ham                         Rofl. Its true to its name"
      ]
     },
     "execution_count": 8,
     "metadata": {},
     "output_type": "execute_result"
    }
   ],
   "source": [
    "df.tail()"
   ]
  },
  {
   "cell_type": "code",
   "execution_count": 10,
   "id": "748d078f-07ed-4934-9b33-e9788c6f737a",
   "metadata": {},
   "outputs": [
    {
     "data": {
      "text/plain": [
       "label\n",
       "ham     4825\n",
       "spam     747\n",
       "Name: count, dtype: int64"
      ]
     },
     "execution_count": 10,
     "metadata": {},
     "output_type": "execute_result"
    }
   ],
   "source": [
    "df['label'].value_counts()"
   ]
  },
  {
   "cell_type": "code",
   "execution_count": 12,
   "id": "c68bea96-608e-43fb-ba69-dd4b8fe9dc02",
   "metadata": {},
   "outputs": [],
   "source": [
    "from sklearn.preprocessing import LabelEncoder\n",
    "le = LabelEncoder()"
   ]
  },
  {
   "cell_type": "code",
   "execution_count": 14,
   "id": "f88626f1-f8ee-48bc-a712-64b3927cc971",
   "metadata": {},
   "outputs": [],
   "source": [
    "y_data = df['label'].values"
   ]
  },
  {
   "cell_type": "code",
   "execution_count": 16,
   "id": "2303ec3d-9fd9-421c-9da5-2e0a49ca7c7b",
   "metadata": {},
   "outputs": [],
   "source": [
    "y_data = le.fit_transform(y_data)"
   ]
  },
  {
   "cell_type": "code",
   "execution_count": 18,
   "id": "d68f7784-3bb1-4f6a-87bf-8ccd484840ba",
   "metadata": {},
   "outputs": [
    {
     "name": "stdout",
     "output_type": "stream",
     "text": [
      "[0 0 1 ... 0 0 0]\n"
     ]
    }
   ],
   "source": [
    "print(y_data)"
   ]
  },
  {
   "cell_type": "code",
   "execution_count": 20,
   "id": "a8d5c449-23da-4edf-818b-ada3609efcd8",
   "metadata": {},
   "outputs": [
    {
     "name": "stdout",
     "output_type": "stream",
     "text": [
      "0       Go until jurong point, crazy.. Available only ...\n",
      "1                           Ok lar... Joking wif u oni...\n",
      "2       Free entry in 2 a wkly comp to win FA Cup fina...\n",
      "3       U dun say so early hor... U c already then say...\n",
      "4       Nah I don't think he goes to usf, he lives aro...\n",
      "                              ...                        \n",
      "5567    This is the 2nd time we have tried 2 contact u...\n",
      "5568                Will Ì_ b going to esplanade fr home?\n",
      "5569    Pity, * was in mood for that. So...any other s...\n",
      "5570    The guy did some bitching but I acted like i'd...\n",
      "5571                           Rofl. Its true to its name\n",
      "Name: sms, Length: 5572, dtype: object\n"
     ]
    }
   ],
   "source": [
    "print(df['sms'])"
   ]
  },
  {
   "cell_type": "code",
   "execution_count": 22,
   "id": "ca9dc02b-98e6-479f-b5cc-3bea2459eec2",
   "metadata": {},
   "outputs": [],
   "source": [
    "import re\n",
    "from nltk.corpus import stopwords\n",
    "from nltk.stem import PorterStemmer"
   ]
  },
  {
   "cell_type": "code",
   "execution_count": 27,
   "id": "d9ba8013-b2b7-443e-8d04-be7d7351a8d7",
   "metadata": {},
   "outputs": [
    {
     "name": "stdout",
     "output_type": "stream",
     "text": [
      "showing info https://raw.githubusercontent.com/nltk/nltk_data/gh-pages/index.xml\n"
     ]
    },
    {
     "data": {
      "text/plain": [
       "True"
      ]
     },
     "execution_count": 27,
     "metadata": {},
     "output_type": "execute_result"
    }
   ],
   "source": [
    "import nltk\n",
    "nltk.download()"
   ]
  },
  {
   "cell_type": "code",
   "execution_count": 24,
   "id": "b07214e6-1ce7-4029-8d36-75b378c18bed",
   "metadata": {},
   "outputs": [],
   "source": [
    "sw= set(stopwords.words('english'))\n",
    "ps= PorterStemmer()"
   ]
  },
  {
   "cell_type": "code",
   "execution_count": 26,
   "id": "2a54bac4-dcca-4639-b7f2-23959e069b93",
   "metadata": {},
   "outputs": [],
   "source": [
    "def cleantext(sample):\n",
    "    sample= sample.lower()\n",
    "    sample= sample.replace(\"<br/ ><br/ >\",\" \")\n",
    "    sample=re.sub(\"[^a-zA-Z]+\",\" \",sample)\n",
    "    \n",
    "    sample=sample.split(\" \")\n",
    "    sample=[ps.stem(s) for s in sample if s not in sw] \n",
    "    \n",
    "    sample=\" \".join(sample)\n",
    "    \n",
    "    return sample"
   ]
  },
  {
   "cell_type": "code",
   "execution_count": 28,
   "id": "1112e0ec-a414-4507-84a4-6dfc8bba89d4",
   "metadata": {},
   "outputs": [
    {
     "data": {
      "text/plain": [
       "'go jurong point crazi avail bugi n great world la e buffet cine got amor wat '"
      ]
     },
     "execution_count": 28,
     "metadata": {},
     "output_type": "execute_result"
    }
   ],
   "source": [
    "cleantext(df['sms'][0])"
   ]
  },
  {
   "cell_type": "code",
   "execution_count": 30,
   "id": "0a263b23-5001-42e0-8ef3-52811a8672de",
   "metadata": {},
   "outputs": [],
   "source": [
    "df['cleanedmessage']=df['sms'].apply(cleantext)"
   ]
  },
  {
   "cell_type": "code",
   "execution_count": 38,
   "id": "117df4d5-959d-4b31-aa60-4dca7241904b",
   "metadata": {},
   "outputs": [],
   "source": [
    "corpus=df['cleanedmessage'].values"
   ]
  },
  {
   "cell_type": "code",
   "execution_count": 40,
   "id": "553010c3-b428-48ff-997c-3a5e8869485b",
   "metadata": {},
   "outputs": [],
   "source": [
    "from sklearn.feature_extraction.text import CountVectorizer,TfidfTransformer"
   ]
  },
  {
   "cell_type": "code",
   "execution_count": 42,
   "id": "7662544a-af07-4180-bfa0-4a0c5dd2eb09",
   "metadata": {},
   "outputs": [],
   "source": [
    "cv=CountVectorizer(max_df=0.5,max_features=50000)"
   ]
  },
  {
   "cell_type": "code",
   "execution_count": 44,
   "id": "11da0f7e-55ab-4afb-84f8-7e4ad029dc1a",
   "metadata": {},
   "outputs": [],
   "source": [
    "x_data=cv.fit_transform(corpus)"
   ]
  },
  {
   "cell_type": "code",
   "execution_count": 46,
   "id": "beb61f7b-79a2-49c2-a274-72c67faf8304",
   "metadata": {},
   "outputs": [
    {
     "data": {
      "text/plain": [
       "(5572, 6221)"
      ]
     },
     "execution_count": 46,
     "metadata": {},
     "output_type": "execute_result"
    }
   ],
   "source": [
    "x_data.shape"
   ]
  },
  {
   "cell_type": "code",
   "execution_count": 48,
   "id": "abc72f56-0fc8-42c6-adfb-6a45c3bd6467",
   "metadata": {},
   "outputs": [
    {
     "name": "stdout",
     "output_type": "stream",
     "text": [
      "  (0, 2148)\t1\n",
      "  (0, 2794)\t1\n",
      "  (0, 4046)\t1\n",
      "  (0, 1162)\t1\n",
      "  (0, 377)\t1\n",
      "  (0, 732)\t1\n",
      "  (0, 2222)\t1\n",
      "  (0, 6060)\t1\n",
      "  (0, 2898)\t1\n",
      "  (0, 730)\t1\n",
      "  (0, 957)\t1\n",
      "  (0, 2185)\t1\n",
      "  (0, 188)\t1\n",
      "  (0, 5886)\t1\n"
     ]
    }
   ],
   "source": [
    "print(x_data[0])"
   ]
  },
  {
   "cell_type": "code",
   "execution_count": 50,
   "id": "4bfdf5be-7bad-4b8f-bae6-ca376922ca62",
   "metadata": {},
   "outputs": [],
   "source": [
    "tfidf=TfidfTransformer()"
   ]
  },
  {
   "cell_type": "code",
   "execution_count": 52,
   "id": "cdbb8a6c-0719-49f1-beb1-b74728ab71af",
   "metadata": {},
   "outputs": [],
   "source": [
    "x_data=tfidf.fit_transform(x_data)"
   ]
  },
  {
   "cell_type": "code",
   "execution_count": 54,
   "id": "bfde8d26-de09-467d-a752-bcdbe9d43087",
   "metadata": {},
   "outputs": [],
   "source": [
    "from sklearn.model_selection import train_test_split\n",
    "X_train,X_test,y_train,y_test = train_test_split(x_data,y_data,test_size=0.3,random_state=42)"
   ]
  },
  {
   "cell_type": "code",
   "execution_count": 56,
   "id": "209f6455-1f4d-4b8b-a9a5-2c7ef89cdfd1",
   "metadata": {},
   "outputs": [],
   "source": [
    "import itertools\n",
    "def plot_confusion_matrix(cm, classes,\n",
    "                          normalize=False,\n",
    "                          title='Confusion matrix',\n",
    "                          cmap=plt.cm.Blues):\n",
    "    #normalize = true\n",
    "    \n",
    "    if normalize:\n",
    "        cm = cm.astype('float') / cm.sum(axis=1)[:, np.newaxis]\n",
    "        print(\"Normalized confusion matrix\")\n",
    "    else:\n",
    "        print('Confusion matrix, without normalization')\n",
    "\n",
    "    print(cm)\n",
    "    plt.imshow(cm, interpolation='nearest', cmap=cmap)\n",
    "    plt.title(title)\n",
    "    plt.colorbar()\n",
    "    tick_marks = np.arange(len(classes))\n",
    "    plt.xticks(tick_marks, classes, rotation=45)\n",
    "    plt.yticks(tick_marks, classes)\n",
    "\n",
    "    fmt = '.2f' if normalize else 'd'\n",
    "    thresh = cm.max() / 2.\n",
    "    for i, j in itertools.product(range(cm.shape[0]), range(cm.shape[1])):\n",
    "        plt.text(j, i, format(cm[i, j], fmt),\n",
    "                 horizontalalignment=\"center\",\n",
    "                 verticalalignment=\"center\",\n",
    "                 color=\"white\" if cm[i, j] > thresh else \"black\")\n",
    "\n",
    "    plt.ylabel('True label')\n",
    "    plt.xlabel('Predicted label')\n",
    "    plt.tight_layout()"
   ]
  },
  {
   "cell_type": "code",
   "execution_count": 58,
   "id": "0e717f08-1879-438d-9848-ed25d8537f34",
   "metadata": {},
   "outputs": [],
   "source": [
    "def perf_measure(y_actual, y_hat):\n",
    "    y_actual=np.array(y_actual)\n",
    "    y_hat=np.array(y_hat)\n",
    "    TP = 0\n",
    "    FP = 0\n",
    "    TN = 0\n",
    "    FN = 0\n",
    "\n",
    "    for i in range(len(y_hat)): \n",
    "        if y_actual[i]==y_hat[i] and y_hat[i]==1:\n",
    "           TP += 1\n",
    "        if y_hat[i]==1 and y_actual[i]!=y_hat[i]:\n",
    "           FP += 1\n",
    "        if y_actual[i]==y_hat[i]==0:\n",
    "           TN += 1\n",
    "        if y_hat[i]==0 and y_actual[i]!=y_hat[i]:\n",
    "           FN += 1\n",
    "\n",
    "    return(TP, FP, TN, FN)"
   ]
  },
  {
   "cell_type": "code",
   "execution_count": 60,
   "id": "4bb97006-3e2d-45f2-9dbf-16f9af86dab9",
   "metadata": {},
   "outputs": [],
   "source": [
    "from sklearn.metrics import confusion_matrix\n",
    "from sklearn.linear_model import LogisticRegression\n",
    "from sklearn.metrics import classification_report\n",
    "from sklearn.naive_bayes import MultinomialNB\n",
    "from sklearn import svm\n",
    "from sklearn.tree import DecisionTreeClassifier\n",
    "from sklearn.ensemble import RandomForestClassifier\n",
    "\n",
    "from sklearn.metrics import accuracy_score\n",
    "from sklearn.metrics import precision_score\n",
    "from sklearn.metrics import f1_score\n",
    "from sklearn.metrics import recall_score"
   ]
  },
  {
   "cell_type": "code",
   "execution_count": 62,
   "id": "a378707e-f426-48d1-b13b-ada3552d1aae",
   "metadata": {},
   "outputs": [],
   "source": [
    "clf_lr= LogisticRegression(solver='liblinear', penalty='l1')\n",
    "clf_lr.fit(X_train, y_train)\n",
    "pred_lr=clf_lr.predict(X_test)"
   ]
  },
  {
   "cell_type": "code",
   "execution_count": 64,
   "id": "99a05185-1089-47bc-ba7c-745a1bd91a09",
   "metadata": {},
   "outputs": [
    {
     "data": {
      "text/plain": [
       "0.9533492822966507"
      ]
     },
     "execution_count": 64,
     "metadata": {},
     "output_type": "execute_result"
    }
   ],
   "source": [
    "clf_lr.score(X_test,y_test)"
   ]
  },
  {
   "cell_type": "code",
   "execution_count": 66,
   "id": "f358ae10-276f-4ca8-9dd7-781d42eb0669",
   "metadata": {},
   "outputs": [
    {
     "name": "stdout",
     "output_type": "stream",
     "text": [
      "              precision    recall  f1-score   support\n",
      "\n",
      "           0       0.95      0.99      0.97      1453\n",
      "           1       0.94      0.68      0.79       219\n",
      "\n",
      "    accuracy                           0.95      1672\n",
      "   macro avg       0.95      0.84      0.88      1672\n",
      "weighted avg       0.95      0.95      0.95      1672\n",
      "\n"
     ]
    }
   ],
   "source": [
    "print(classification_report(y_test,pred_lr))"
   ]
  },
  {
   "cell_type": "code",
   "execution_count": 70,
   "id": "8c733c2e-b176-418e-b5c4-22329e800c6d",
   "metadata": {},
   "outputs": [
    {
     "name": "stdout",
     "output_type": "stream",
     "text": [
      "Confusion matrix, without normalization\n",
      "[[1444    9]\n",
      " [  69  150]]\n"
     ]
    },
    {
     "data": {
      "image/png": "[encoded data removed]",
      "text/plain": [
       "<Figure size 640x480 with 2 Axes>"
      ]
     },
     "metadata": {},
     "output_type": "display_data"
    }
   ],
   "source": [
    "cnf_matrix_lr=confusion_matrix(y_test,pred_lr)\n",
    "plot_confusion_matrix(cnf_matrix_lr,[0,1],normalize=False,title=\"Confusion Matrix\")"
   ]
  },
  {
   "cell_type": "code",
   "execution_count": 72,
   "id": "f5f3963b-a239-41e9-b79c-acd1adb794c2",
   "metadata": {},
   "outputs": [
    {
     "name": "stdout",
     "output_type": "stream",
     "text": [
      "Accuracy :  0.9760765550239234\n"
     ]
    }
   ],
   "source": [
    "clf_mnb=MultinomialNB(alpha = 0.3) \n",
    "\n",
    "clf_mnb.fit(X_train,y_train)\n",
    "pred_mnb=clf_mnb.predict(X_test)\n",
    "acc_mnb=clf_mnb.score(X_test,y_test)\n",
    "\n",
    "print(\"Accuracy : \",acc_mnb)"
   ]
  },
  {
   "cell_type": "code",
   "execution_count": 74,
   "id": "e53635d4-dcfb-4d42-add2-018a7a861d55",
   "metadata": {},
   "outputs": [
    {
     "name": "stdout",
     "output_type": "stream",
     "text": [
      "              precision    recall  f1-score   support\n",
      "\n",
      "           0       0.98      0.99      0.99      1453\n",
      "           1       0.95      0.86      0.90       219\n",
      "\n",
      "    accuracy                           0.98      1672\n",
      "   macro avg       0.97      0.93      0.95      1672\n",
      "weighted avg       0.98      0.98      0.98      1672\n",
      "\n"
     ]
    }
   ],
   "source": [
    "print(classification_report(y_test,pred_mnb))"
   ]
  },
  {
   "cell_type": "code",
   "execution_count": 76,
   "id": "b1f66c56-d8ec-48e5-a1d3-9b6f8f29de73",
   "metadata": {},
   "outputs": [
    {
     "name": "stdout",
     "output_type": "stream",
     "text": [
      "Confusion matrix, without normalization\n",
      "[[1444    9]\n",
      " [  31  188]]\n"
     ]
    },
    {
     "data": {
      "image/png": "[encoded data removed]",
      "text/plain": [
       "<Figure size 640x480 with 2 Axes>"
      ]
     },
     "metadata": {},
     "output_type": "display_data"
    }
   ],
   "source": [
    "cnf_matrix_mnb=confusion_matrix(y_test,pred_mnb)\n",
    "plot_confusion_matrix(cnf_matrix_mnb,[0,1],normalize=False,title=\"Confusion Matrix\")"
   ]
  },
  {
   "cell_type": "code",
   "execution_count": 78,
   "id": "54510ffd-60c9-4555-bfc7-20b9c6495be1",
   "metadata": {},
   "outputs": [
    {
     "name": "stdout",
     "output_type": "stream",
     "text": [
      "Accuracy :  0.9581339712918661\n"
     ]
    }
   ],
   "source": [
    "clf_dtc=DecisionTreeClassifier(random_state=0)\n",
    "\n",
    "clf_dtc.fit(X_train,y_train)\n",
    "pred_dtc=clf_dtc.predict(X_test)\n",
    "acc_dtc=clf_dtc.score(X_test,y_test)\n",
    "\n",
    "print(\"Accuracy : \",acc_dtc)"
   ]
  },
  {
   "cell_type": "code",
   "execution_count": 80,
   "id": "e3908a4b-92bc-4c52-b683-ab03536a10c5",
   "metadata": {},
   "outputs": [
    {
     "name": "stdout",
     "output_type": "stream",
     "text": [
      "              precision    recall  f1-score   support\n",
      "\n",
      "           0       0.98      0.98      0.98      1453\n",
      "           1       0.84      0.84      0.84       219\n",
      "\n",
      "    accuracy                           0.96      1672\n",
      "   macro avg       0.91      0.91      0.91      1672\n",
      "weighted avg       0.96      0.96      0.96      1672\n",
      "\n"
     ]
    }
   ],
   "source": [
    "print(classification_report(y_test,pred_dtc))"
   ]
  },
  {
   "cell_type": "code",
   "execution_count": 82,
   "id": "ee3c8a39-a2de-4fbd-a8ed-ae869118b8df",
   "metadata": {},
   "outputs": [
    {
     "name": "stdout",
     "output_type": "stream",
     "text": [
      "Confusion matrix, without normalization\n",
      "[[1418   35]\n",
      " [  35  184]]\n"
     ]
    },
    {
     "data": {
      "image/png": "[encoded data removed]",
      "text/plain": [
       "<Figure size 640x480 with 2 Axes>"
      ]
     },
     "metadata": {},
     "output_type": "display_data"
    }
   ],
   "source": [
    "cnf_matrix_dtc=confusion_matrix(y_test,pred_dtc)\n",
    "plot_confusion_matrix(cnf_matrix_dtc,[0,1],normalize=False,title=\"Confusion Matrix\")"
   ]
  },
  {
   "cell_type": "code",
   "execution_count": 84,
   "id": "d5fc31ac-ec9a-424f-a0b9-b1827bffea8a",
   "metadata": {},
   "outputs": [
    {
     "name": "stdout",
     "output_type": "stream",
     "text": [
      "Accuracy :  0.9712918660287081\n"
     ]
    }
   ],
   "source": [
    "clf_svm = svm.SVC(kernel='sigmoid', gamma=2.0, probability=True)\n",
    "\n",
    "clf_svm.fit(X_train,y_train)\n",
    "pred_svm=clf_svm.predict(X_test)\n",
    "acc_svm=clf_svm.score(X_test,y_test)\n",
    "\n",
    "print(\"Accuracy : \",acc_svm)"
   ]
  },
  {
   "cell_type": "code",
   "execution_count": 86,
   "id": "07554d68-f933-42c6-b3dd-3e259643e3a0",
   "metadata": {},
   "outputs": [
    {
     "name": "stdout",
     "output_type": "stream",
     "text": [
      "              precision    recall  f1-score   support\n",
      "\n",
      "           0       0.97      0.99      0.98      1453\n",
      "           1       0.94      0.83      0.88       219\n",
      "\n",
      "    accuracy                           0.97      1672\n",
      "   macro avg       0.96      0.91      0.93      1672\n",
      "weighted avg       0.97      0.97      0.97      1672\n",
      "\n"
     ]
    }
   ],
   "source": [
    "print(classification_report(y_test,pred_svm))"
   ]
  },
  {
   "cell_type": "code",
   "execution_count": 88,
   "id": "8438cec1-0ade-457f-9ef0-ea79acfd2d47",
   "metadata": {},
   "outputs": [
    {
     "name": "stdout",
     "output_type": "stream",
     "text": [
      "Confusion matrix, without normalization\n",
      "[[1442   11]\n",
      " [  37  182]]\n"
     ]
    },
    {
     "data": {
      "image/png": "[encoded data removed]",
      "text/plain": [
       "<Figure size 640x480 with 2 Axes>"
      ]
     },
     "metadata": {},
     "output_type": "display_data"
    }
   ],
   "source": [
    "cnf_matrix_svm=confusion_matrix(y_test,pred_svm)\n",
    "plot_confusion_matrix(cnf_matrix_svm,[0,1],normalize=False,title=\"Confusion Matrix\")"
   ]
  },
  {
   "cell_type": "code",
   "execution_count": 90,
   "id": "4e7f9fee-edb8-4a8e-8df6-e56f20efa36b",
   "metadata": {},
   "outputs": [],
   "source": [
    "classifiers=[]\n",
    "\n",
    "classifiers.append(('LogisticRegression',clf_lr))\n",
    "classifiers.append(('MNB',clf_mnb))\n",
    "classifiers.append(('SVM',clf_svm))\n",
    "classifiers.append(('Desicion Tree',clf_dtc))"
   ]
  },
  {
   "cell_type": "code",
   "execution_count": 92,
   "id": "c7466c54-b597-45c0-b8bb-5264ac0874da",
   "metadata": {},
   "outputs": [],
   "source": [
    "result=[]\n",
    "cnf_matric_parameter=[]\n",
    "for i,v in classifiers:\n",
    "        \n",
    "    \n",
    "    pred=v.predict(X_test)\n",
    "    acc=accuracy_score(y_test,pred)\n",
    "    precision = precision_score(y_test,pred)\n",
    "    recall=recall_score(y_test, pred)\n",
    "    f_measure=f1_score(y_test,pred)\n",
    "    result.append((i,acc,precision,recall,f_measure))\n",
    "    \n",
    "    TP,FP,TN,FN=perf_measure(y_test,pred)\n",
    "    cnf_matric_parameter.append((i,TP,FP,TN,FN))"
   ]
  },
  {
   "cell_type": "code",
   "execution_count": 94,
   "id": "813ccca3-7a87-47a4-a5a5-0c17d42f6480",
   "metadata": {},
   "outputs": [
    {
     "name": "stdout",
     "output_type": "stream",
     "text": [
      "            Algorithm  Accuracy  Precision    Recall  F-measure\n",
      "0  LogisticRegression  0.953349   0.943396  0.684932   0.793651\n",
      "1                 MNB  0.976077   0.954315  0.858447   0.903846\n",
      "2                 SVM  0.971292   0.943005  0.831050   0.883495\n",
      "3       Desicion Tree  0.958134   0.840183  0.840183   0.840183\n"
     ]
    }
   ],
   "source": [
    "column_names=['Algorithm','Accuracy','Precision','Recall','F-measure']\n",
    "df1=pd.DataFrame(result,columns=column_names)\n",
    "print(df1)"
   ]
  },
  {
   "cell_type": "code",
   "execution_count": 96,
   "id": "5663b683-ad04-4c07-9d39-7e1d9e0fc791",
   "metadata": {},
   "outputs": [
    {
     "name": "stdout",
     "output_type": "stream",
     "text": [
      "            Algorithm  True_Pos  False_Pos  True_Neg  False_Neg\n",
      "0  LogisticRegression       150          9      1444         69\n",
      "1                 MNB       188          9      1444         31\n",
      "2                 SVM       182         11      1442         37\n",
      "3       Desicion Tree       184         35      1418         35\n"
     ]
    }
   ],
   "source": [
    "column_names=['Algorithm','True_Pos','False_Pos','True_Neg','False_Neg']\n",
    "df2=pd.DataFrame(cnf_matric_parameter,columns=column_names)\n",
    "print(df2)"
   ]
  },
  {
   "cell_type": "code",
   "execution_count": 98,
   "id": "f8f82f5b-1883-4c0a-96d7-11009c880b63",
   "metadata": {},
   "outputs": [
    {
     "data": {
      "image/png": "[encoded data removed]",
      "text/plain": [
       "<Figure size 640x480 with 1 Axes>"
      ]
     },
     "metadata": {},
     "output_type": "display_data"
    }
   ],
   "source": [
    "import matplotlib.pyplot as plt\n",
    "import numpy as np\n",
    "\n",
    "x = np.array([\"LR\", \"NB\", \"SVM\", \"DT\"])\n",
    "y = np.array([0.95, 0.98, 0.97, 0.96])\n",
    "\n",
    "plt.bar(x,y)\n",
    "plt.show()"
   ]
  },
  {
   "cell_type": "code",
   "execution_count": null,
   "id": "174c5a0f-4510-40b4-bd9a-ce3339c1c7d7",
   "metadata": {},
   "outputs": [],
   "source": []
  }
 ],
 "metadata": {
  "kernelspec": {
   "display_name": "Python 3 (ipykernel)",
   "language": "python",
   "name": "python3"
  },
  "language_info": {
   "codemirror_mode": {
    "name": "ipython",
    "version": 3
   },
   "file_extension": ".py",
   "mimetype": "text/x-python",
   "name": "python",
   "nbconvert_exporter": "python",
   "pygments_lexer": "ipython3",
   "version": "3.11.7"
  }
 },
 "nbformat": 4,
 "nbformat_minor": 5
}
